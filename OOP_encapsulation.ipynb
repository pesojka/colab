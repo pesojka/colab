{
  "nbformat": 4,
  "nbformat_minor": 0,
  "metadata": {
    "colab": {
      "name": "OOP_encapsulation.ipynb",
      "version": "0.3.2",
      "provenance": [],
      "include_colab_link": true
    },
    "language_info": {
      "codemirror_mode": {
        "name": "ipython",
        "version": 3
      },
      "file_extension": ".py",
      "mimetype": "text/x-python",
      "name": "python",
      "nbconvert_exporter": "python",
      "pygments_lexer": "ipython3",
      "version": "3.5.5"
    },
    "kernelspec": {
      "display_name": "Python [conda env:tensorflow]",
      "language": "python",
      "name": "conda-env-tensorflow-py"
    }
  },
  "cells": [
    {
      "cell_type": "markdown",
      "metadata": {
        "id": "view-in-github",
        "colab_type": "text"
      },
      "source": [
        "<a href=\"https://colab.research.google.com/github/pesojka/colab/blob/master/OOP_encapsulation.ipynb\" target=\"_parent\"><img src=\"https://colab.research.google.com/assets/colab-badge.svg\" alt=\"Open In Colab\"/></a>"
      ]
    },
    {
      "cell_type": "code",
      "metadata": {
        "id": "YMuTGVTMtPaf",
        "colab_type": "code",
        "outputId": "0962b6fb-9ea1-4cb7-8cce-8a417c0a79d4",
        "colab": {}
      },
      "source": [
        "# Encapsulation\n",
        "# This script is to understand the difference between class level attributes and \n",
        "#instance level attributes\n",
        "import numpy as np\n",
        "\n",
        "\n",
        "class Student:\n",
        "    # Declaring class level attributes\n",
        "    name=\"\"\n",
        "    age=0\n",
        "    group=\"\"\n",
        "    game=\"Ice Hockey\"\n",
        "    \n",
        "    def getAttributes(self):\n",
        "        print (\"I am {0}. My Age is {1}. I am in group {2}. I like to play {3}\".format(self.name,self.age,self.group,self.game))\n",
        "\n",
        "\n",
        "#---\n",
        "# creating a class level instance and determining values\n",
        "student1 = Student()\n",
        "student1.name =\"Tina\"\n",
        "student1.age=10\n",
        "student1.group =\"crazy crocodiles\"\n",
        "# not changing the value of game as yet\n",
        "student1.getAttributes()\n",
        "\n",
        "#-\n",
        "student2 = Student()\n",
        "student2.name =\"Lacy\"\n",
        "student2.age=9\n",
        "student2.group =\"crazy crocodiles\"\n",
        "# not changing the value of game as yet\n",
        "student2.getAttributes()\n",
        "\n",
        "#---\n",
        "#Tina now likes to play badminton. But it is a group level attribute, so we are going to change\n",
        "# it from instance Tina\n",
        "\n",
        "# we are changing a variable that is defined at the group level. Lets see, if it works\n",
        "student1.game =\"Badminton\"\n",
        "\n",
        "print(\"\\n-After changing class level attribute 'game'-\")\n",
        "student1.getAttributes()\n",
        "\n",
        "print(\"\\n\\nDid the class level attribute value changed?\\n Let's see by calling student2\\n\\n\")\n",
        "student2.getAttributes()\n"
      ],
      "execution_count": 0,
      "outputs": [
        {
          "output_type": "stream",
          "text": [
            "I am Tina. My Age is 10. I am in group crazy crocodiles. I like to play Ice Hockey\n",
            "I am Lacy. My Age is 9. I am in group crazy crocodiles. I like to play Ice Hockey\n",
            "\n",
            "-After changing class level attribute 'game'-\n",
            "I am Tina. My Age is 10. I am in group crazy crocodiles. I like to play Badminton\n",
            "\n",
            "\n",
            "Did the class level attribute value changed?\n",
            " Let's see by calling student2\n",
            "\n",
            "\n",
            "I am Lacy. My Age is 9. I am in group crazy crocodiles. I like to play Ice Hockey\n"
          ],
          "name": "stdout"
        }
      ]
    },
    {
      "cell_type": "code",
      "metadata": {
        "id": "9YF-BILBtPao",
        "colab_type": "code",
        "colab": {}
      },
      "source": [
        ""
      ],
      "execution_count": 0,
      "outputs": []
    }
  ]
}